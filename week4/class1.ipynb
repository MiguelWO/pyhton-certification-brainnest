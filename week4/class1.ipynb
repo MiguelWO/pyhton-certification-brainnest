{
 "cells": [
  {
   "cell_type": "markdown",
   "source": [
    "1. A decorator that repeats a function call a specified number of times\n",
    "def my_function():\n",
    "    print(\"Hello, world!\")\n"
   ],
   "metadata": {
    "collapsed": false
   }
  },
  {
   "cell_type": "code",
   "execution_count": null,
   "outputs": [],
   "source": [
    "def my_function():\n",
    "    print(\"Hello, world!\")\n",
    "\n",
    "def repeat(n):\n",
    "    def decorator(func):\n",
    "        def wrapper():\n",
    "            for i in range(n):\n",
    "                func()\n",
    "        return wrapper\n",
    "    return decorator\n",
    "\n",
    "my_function = repeat(3)(my_function)\n",
    "\n",
    "my_function()"
   ],
   "metadata": {
    "collapsed": false,
    "pycharm": {
     "is_executing": true
    }
   }
  },
  {
   "cell_type": "code",
   "execution_count": 4,
   "outputs": [
    {
     "name": "stdout",
     "output_type": "stream",
     "text": [
      "Hello, world!\n",
      "Hello, world!\n",
      "Hello, world!\n"
     ]
    }
   ],
   "source": [
    "def repeat(n,func):\n",
    "    def wrapper():\n",
    "        for i in range(n):\n",
    "            func()\n",
    "    return wrapper\n",
    "\n",
    "def my_function():\n",
    "    print(\"Hello, world!\")\n",
    "\n",
    "my_function = repeat(3,my_function)\n",
    "\n",
    "my_function()\n"
   ],
   "metadata": {
    "collapsed": false
   }
  },
  {
   "cell_type": "markdown",
   "source": [
    "Create a decorator my_logger that logs the name of the function being called and the arguments it was called with. The logger should output the function name and arguments to the console each time the function is called.\n"
   ],
   "metadata": {
    "collapsed": false
   }
  },
  {
   "cell_type": "code",
   "execution_count": 5,
   "outputs": [
    {
     "name": "stdout",
     "output_type": "stream",
     "text": [
      "Function my_function called with args (1, 2, 3) and kwargs {}\n",
      "1 2 3\n"
     ]
    }
   ],
   "source": [
    "def my_logger(func):\n",
    "    def wrapper(*args,**kwargs):\n",
    "        print(f\"Function {func.__name__} called with args {args} and kwargs {kwargs}\")\n",
    "        return func(*args,**kwargs)\n",
    "    return wrapper\n",
    "\n",
    "@my_logger\n",
    "def my_function(a,b,c):\n",
    "    print(a,b,c)\n",
    "\n",
    "my_function(1,2,3)\n"
   ],
   "metadata": {
    "collapsed": false
   }
  },
  {
   "cell_type": "markdown",
   "source": [
    "Find the average value of a specific key in a JSON file containing an array of dictionaries:\n",
    "Write a Python program that reads a JSON file containing an array of dictionaries, calculates the average value of a specific key across all dictionaries in the array, and prints the result. For example, given the following JSON file named data.json\n"
   ],
   "metadata": {
    "collapsed": false
   }
  },
  {
   "cell_type": "code",
   "execution_count": 7,
   "outputs": [
    {
     "name": "stdout",
     "output_type": "stream",
     "text": [
      "29.5\n"
     ]
    }
   ],
   "source": [
    "# import json\n",
    "#\n",
    "# with open(\"data.json\") as f:\n",
    "#     data = json.load(f)\n",
    "#\n",
    "# def average(key):\n",
    "#     total = 0\n",
    "#     for item in data:\n",
    "#         total += item[key]\n",
    "#     return total/len(data)\n",
    "#\n",
    "# print(average(\"age\"))\n"
   ],
   "metadata": {
    "collapsed": false
   }
  },
  {
   "cell_type": "markdown",
   "source": [
    "Write a Python program that reads a JSON file containing a list of numbers, finds the maximum and minimum values, and prints them to the console.\n"
   ],
   "metadata": {
    "collapsed": false
   }
  },
  {
   "cell_type": "code",
   "execution_count": 8,
   "outputs": [
    {
     "name": "stdout",
     "output_type": "stream",
     "text": [
      "25\n",
      "5\n"
     ]
    }
   ],
   "source": [
    "# with open(\"number.json\") as f:\n",
    "#     data = json.load(f)\n",
    "#\n",
    "# print(max(data))\n",
    "# print(min(data))\n"
   ],
   "metadata": {
    "collapsed": false
   }
  },
  {
   "cell_type": "code",
   "execution_count": null,
   "outputs": [],
   "source": [],
   "metadata": {
    "collapsed": false
   }
  }
 ],
 "metadata": {
  "kernelspec": {
   "display_name": "Python 3",
   "language": "python",
   "name": "python3"
  },
  "language_info": {
   "codemirror_mode": {
    "name": "ipython",
    "version": 2
   },
   "file_extension": ".py",
   "mimetype": "text/x-python",
   "name": "python",
   "nbconvert_exporter": "python",
   "pygments_lexer": "ipython2",
   "version": "2.7.6"
  }
 },
 "nbformat": 4,
 "nbformat_minor": 0
}
