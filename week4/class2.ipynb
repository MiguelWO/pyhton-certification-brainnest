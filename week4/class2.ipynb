{
 "cells": [
  {
   "cell_type": "markdown",
   "source": [
    "Create a dataclass called Rectangle with the following attributes: length (float), width (float), color (str). Write a method called area that returns the area of the rectangle. Instantiate an object of Rectangle with a length of 5.0, width of 3.0, and color of \"blue\", and print out its area.\n"
   ],
   "metadata": {
    "collapsed": false
   }
  },
  {
   "cell_type": "code",
   "execution_count": 3,
   "outputs": [
    {
     "data": {
      "text/plain": "15.0"
     },
     "execution_count": 3,
     "metadata": {},
     "output_type": "execute_result"
    }
   ],
   "source": [
    "from dataclasses import dataclass\n",
    "\n",
    "@dataclass\n",
    "class Rectangle:\n",
    "    length: float\n",
    "    width: float\n",
    "    color: str\n",
    "\n",
    "    def area(self):\n",
    "        return self.length * self.width\n",
    "\n",
    "\n",
    "rect = Rectangle(5.0, 3.0,\"blue\")\n",
    "rect.area()\n"
   ],
   "metadata": {
    "collapsed": false
   }
  },
  {
   "cell_type": "markdown",
   "source": [
    "Create a dataclass called Student with the following attributes: name (str), id (int), grades (list of floats). Write a method called average_grade that returns the average of the student's grades. Instantiate an object of Student with a name of \"Alice\", id of 12345, and grades of [3.5, 4.0, 3.7], and print out their average grade."
   ],
   "metadata": {
    "collapsed": false
   }
  },
  {
   "cell_type": "code",
   "execution_count": 4,
   "outputs": [
    {
     "data": {
      "text/plain": "3.733333333333333"
     },
     "execution_count": 4,
     "metadata": {},
     "output_type": "execute_result"
    }
   ],
   "source": [
    "@dataclass\n",
    "class Student:\n",
    "    name: str\n",
    "    id: int\n",
    "    grades: list\n",
    "\n",
    "    def average_grade(self):\n",
    "        return sum(self.grades) / len(self.grades)\n",
    "\n",
    "student = Student(\"Alice\", 12345, [3.5, 4.0, 3.7])\n",
    "student.average_grade()\n"
   ],
   "metadata": {
    "collapsed": false
   }
  },
  {
   "cell_type": "markdown",
   "source": [
    "Create a dataclass called Book with the following attributes: title (str), author (str), year (int), pages (int), rating (float), publisher (str), and genres (list of strings). Write a method called has_genre that takes a genre string as input and returns a boolean indicating whether the book belongs to that genre. Write a second method called to_dict that returns a dictionary of the book's attributes. Instantiate several objects of Book with different attributes and test your has_genre and to_dict methods."
   ],
   "metadata": {
    "collapsed": false
   }
  },
  {
   "cell_type": "code",
   "execution_count": 5,
   "outputs": [
    {
     "data": {
      "text/plain": "True"
     },
     "execution_count": 5,
     "metadata": {},
     "output_type": "execute_result"
    }
   ],
   "source": [
    "@dataclass\n",
    "class Book:\n",
    "    title: str\n",
    "    author: str\n",
    "    year: int\n",
    "    pages: int\n",
    "    rating: float\n",
    "    publisher: str\n",
    "    genres: list\n",
    "\n",
    "    def has_genre(self, genre):\n",
    "        return genre in self.genres\n",
    "\n",
    "    def to_dict(self):\n",
    "        return {\n",
    "            \"title\": self.title,\n",
    "            \"author\": self.author,\n",
    "            \"year\": self.year,\n",
    "            \"pages\": self.pages,\n",
    "            \"rating\": self.rating,\n",
    "            \"publisher\": self.publisher,\n",
    "            \"genres\": self.genres\n",
    "        }\n",
    "\n",
    "\n",
    "book = Book(\"The Great Gatsby\", \"F. Scott Fitzgerald\", 1925, 218, 4.3, \"Charles Scribner's Sons\", [\"Novel\", \"Tragedy\"])\n",
    "book.has_genre(\"Novel\")"
   ],
   "metadata": {
    "collapsed": false
   }
  },
  {
   "cell_type": "code",
   "execution_count": 6,
   "outputs": [
    {
     "data": {
      "text/plain": "{'title': 'The Great Gatsby',\n 'author': 'F. Scott Fitzgerald',\n 'year': 1925,\n 'pages': 218,\n 'rating': 4.3,\n 'publisher': \"Charles Scribner's Sons\",\n 'genres': ['Novel', 'Tragedy']}"
     },
     "execution_count": 6,
     "metadata": {},
     "output_type": "execute_result"
    }
   ],
   "source": [
    "book.to_dict()"
   ],
   "metadata": {
    "collapsed": false
   }
  },
  {
   "cell_type": "code",
   "execution_count": 7,
   "outputs": [
    {
     "data": {
      "text/plain": "True"
     },
     "execution_count": 7,
     "metadata": {},
     "output_type": "execute_result"
    }
   ],
   "source": [
    "book2 = Book(\"Harry Potter and the Philosopher's Stone\", \"J. K. Rowling\", 1997, 223, 4.5, \"Bloomsbury Publishing\", [\"Fantasy\", \"Young adult fiction\", \"Mystery\", \"Thriller\"])\n",
    "book2.has_genre(\"Fantasy\")"
   ],
   "metadata": {
    "collapsed": false
   }
  },
  {
   "cell_type": "code",
   "execution_count": 8,
   "outputs": [
    {
     "data": {
      "text/plain": "False"
     },
     "execution_count": 8,
     "metadata": {},
     "output_type": "execute_result"
    }
   ],
   "source": [
    "book2.has_genre(\"Romance\")"
   ],
   "metadata": {
    "collapsed": false
   }
  },
  {
   "cell_type": "code",
   "execution_count": 9,
   "outputs": [
    {
     "data": {
      "text/plain": "{'title': \"Harry Potter and the Philosopher's Stone\",\n 'author': 'J. K. Rowling',\n 'year': 1997,\n 'pages': 223,\n 'rating': 4.5,\n 'publisher': 'Bloomsbury Publishing',\n 'genres': ['Fantasy', 'Young adult fiction', 'Mystery', 'Thriller']}"
     },
     "execution_count": 9,
     "metadata": {},
     "output_type": "execute_result"
    }
   ],
   "source": [
    "book2.to_dict()"
   ],
   "metadata": {
    "collapsed": false
   }
  },
  {
   "cell_type": "code",
   "execution_count": 10,
   "outputs": [
    {
     "data": {
      "text/plain": "True"
     },
     "execution_count": 10,
     "metadata": {},
     "output_type": "execute_result"
    }
   ],
   "source": [
    "book3 = Book(\"The Hobbit\", \"J. R. R. Tolkien\", 1937, 310, 4.7, \"George Allen & Unwin\", [\"Fantasy\", \"Adventure fiction\", \"Children's literature\"])\n",
    "book3.has_genre(\"Fantasy\")"
   ],
   "metadata": {
    "collapsed": false
   }
  },
  {
   "cell_type": "code",
   "execution_count": 11,
   "outputs": [
    {
     "data": {
      "text/plain": "False"
     },
     "execution_count": 11,
     "metadata": {},
     "output_type": "execute_result"
    }
   ],
   "source": [
    "book3.has_genre(\"Romance\")"
   ],
   "metadata": {
    "collapsed": false
   }
  },
  {
   "cell_type": "markdown",
   "source": [
    "use unittest, re\n",
    "define a valid email address\n",
    "assertTrue\n",
    "assertFalse"
   ],
   "metadata": {
    "collapsed": false
   }
  },
  {
   "cell_type": "code",
   "execution_count": 14,
   "outputs": [
    {
     "name": "stderr",
     "output_type": "stream",
     "text": [
      "test_invalid_email (__main__.TestEmail) ... ok\n",
      "test_valid_email (__main__.TestEmail) ... ok\n",
      "\n",
      "----------------------------------------------------------------------\n",
      "Ran 2 tests in 0.003s\n",
      "\n",
      "OK\n"
     ]
    },
    {
     "data": {
      "text/plain": "<unittest.main.TestProgram at 0x235e9b29ed0>"
     },
     "execution_count": 14,
     "metadata": {},
     "output_type": "execute_result"
    }
   ],
   "source": [
    "import unittest\n",
    "import re\n",
    "\n",
    "class TestEmail(unittest.TestCase):\n",
    "    def test_valid_email(self):\n",
    "        email = \"miguel@gmail.com\"\n",
    "        self.assertTrue(re.match(r\"([A-Za-z0-9]+[.-_])*[A-Za-z0-9]+@[A-Za-z0-9-]+(\\.[A-Z|a-z]{2,})+\", email))\n",
    "\n",
    "    def test_invalid_email(self):\n",
    "        email = \"miguel@gmail\"\n",
    "        self.assertFalse(re.match(r\"([A-Za-z0-9]+[.-_])*[A-Za-z0-9]+@[A-Za-z0-9-]+(\\.[A-Z|a-z]{2,})+\", email))\n",
    "\n",
    "unittest.main(argv=[''], verbosity=2, exit=False)\n",
    "\n",
    "\n",
    "# if __name__ == '__main__':\n",
    "#     unittest.main()\n"
   ],
   "metadata": {
    "collapsed": false
   }
  },
  {
   "cell_type": "markdown",
   "source": [
    "use unittest, re define a valid email address assertTrue assertFalse\n",
    "\n",
    "it's better to define your pattern once in a function as opposed to repeating it in each test"
   ],
   "metadata": {
    "collapsed": false
   }
  },
  {
   "cell_type": "code",
   "execution_count": 25,
   "outputs": [
    {
     "name": "stderr",
     "output_type": "stream",
     "text": [
      "..\n",
      "----------------------------------------------------------------------\n",
      "Ran 2 tests in 0.002s\n",
      "\n",
      "OK\n"
     ]
    },
    {
     "data": {
      "text/plain": "<unittest.main.TestProgram at 0x235e9b38820>"
     },
     "execution_count": 25,
     "metadata": {},
     "output_type": "execute_result"
    }
   ],
   "source": [
    "class TestEmail(unittest.TestCase):\n",
    "    def validate_email(self,email):\n",
    "        self.pattern = r\"([A-Za-z0-9]+[.-_])*[A-Za-z0-9]+@[A-Za-z0-9-]+(\\.[A-Z|a-z]{2,})+\"\n",
    "        return re.match(self.pattern, email)\n",
    "\n",
    "    def test_valid_email(self):\n",
    "        email = \"miguel@gmail.com\"\n",
    "        self.assertTrue(self.validate_email(email))\n",
    "\n",
    "    def test_invalid_email(self):\n",
    "        email = \"miguel@gmail\"\n",
    "        self.assertFalse(self.validate_email(email))\n",
    "\n",
    "unittest.main(argv=[''], exit = False)\n",
    "\n",
    "# if __name__ == '__main__':\n",
    "#     unittest.main()"
   ],
   "metadata": {
    "collapsed": false
   }
  },
  {
   "cell_type": "markdown",
   "source": [],
   "metadata": {
    "collapsed": false
   }
  }
 ],
 "metadata": {
  "kernelspec": {
   "display_name": "Python 3",
   "language": "python",
   "name": "python3"
  },
  "language_info": {
   "codemirror_mode": {
    "name": "ipython",
    "version": 2
   },
   "file_extension": ".py",
   "mimetype": "text/x-python",
   "name": "python",
   "nbconvert_exporter": "python",
   "pygments_lexer": "ipython2",
   "version": "2.7.6"
  }
 },
 "nbformat": 4,
 "nbformat_minor": 0
}
