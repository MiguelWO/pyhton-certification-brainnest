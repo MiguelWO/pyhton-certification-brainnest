{
 "cells": [
  {
   "cell_type": "markdown",
   "source": [
    "1. Create a Dog class with the following attributes: name, breed, and age. The class should also have the following methods: bark() and info()."
   ],
   "metadata": {
    "collapsed": false
   }
  },
  {
   "cell_type": "code",
   "execution_count": 3,
   "outputs": [
    {
     "name": "stdout",
     "output_type": "stream",
     "text": [
      "Woof!\n",
      "My name is Paco. I am a Collie and I am 3 years old.\n"
     ]
    }
   ],
   "source": [
    "class Dog:\n",
    "    def __init__(self, name, breed, age):\n",
    "        self.name = name\n",
    "        self.breed = breed\n",
    "        self.age = age\n",
    "\n",
    "    def bark(self):\n",
    "        print(\"Woof!\")\n",
    "\n",
    "    def info(self):\n",
    "        print(f\"My name is {self.name}. I am a {self.breed} and I am {self.age} years old.\")\n",
    "\n",
    "\n",
    "dog = Dog(\"Paco\", \"Collie\", 3)\n",
    "dog.bark()\n",
    "dog.info()\n"
   ],
   "metadata": {
    "collapsed": false
   }
  },
  {
   "cell_type": "markdown",
   "source": [
    "2. Create a BankAccount class with the following attributes: balance and account_number. The class should also have the following methods: deposit(amount), withdraw(amount), and info().\n"
   ],
   "metadata": {
    "collapsed": false
   }
  },
  {
   "cell_type": "code",
   "execution_count": 6,
   "outputs": [
    {
     "name": "stdout",
     "output_type": "stream",
     "text": [
      "Account number: 123456789\n",
      "Balance: 900\n"
     ]
    }
   ],
   "source": [
    "class BankAccount:\n",
    "    def __init__(self, balance, account_number):\n",
    "        self.balance = balance\n",
    "        self.account_number = account_number\n",
    "\n",
    "    def deposit(self, amount):\n",
    "        self.balance += amount\n",
    "\n",
    "    def withdraw(self, amount):\n",
    "        self.balance -= amount\n",
    "\n",
    "    def info(self):\n",
    "        print(f\"Account number: {self.account_number}\")\n",
    "        print(f\"Balance: {self.balance}\")\n",
    "\n",
    "\n",
    "bancolombia = BankAccount(1000, 123456789)\n",
    "bancolombia.deposit(100)\n",
    "bancolombia.withdraw(200)\n",
    "bancolombia.info()"
   ],
   "metadata": {
    "collapsed": false
   }
  },
  {
   "cell_type": "markdown",
   "source": [
    "1. Write a list comprehension to flatten a nested list.\n"
   ],
   "metadata": {
    "collapsed": false
   }
  },
  {
   "cell_type": "code",
   "execution_count": 7,
   "outputs": [
    {
     "name": "stdout",
     "output_type": "stream",
     "text": [
      "[1, 2, 3, 4, 5, 6, 7, 8, 9]\n"
     ]
    }
   ],
   "source": [
    "lis = [[1, 2, 3], [4, 5, 6], [7, 8, 9]]\n",
    "lis_flat = [item for sublist in lis for item in sublist]\n",
    "print(lis_flat)"
   ],
   "metadata": {
    "collapsed": false
   }
  },
  {
   "cell_type": "markdown",
   "source": [
    "2. Write a list comprehension to generate a list of all possible pairs of numbers from two given lists.\n"
   ],
   "metadata": {
    "collapsed": false
   }
  },
  {
   "cell_type": "code",
   "execution_count": 8,
   "outputs": [
    {
     "name": "stdout",
     "output_type": "stream",
     "text": [
      "[(1, 4), (1, 5), (1, 6), (2, 4), (2, 5), (2, 6), (3, 4), (3, 5), (3, 6)]\n"
     ]
    }
   ],
   "source": [
    "def pairs(lis1, lis2):\n",
    "    return [(x, y) for x in lis1 for y in lis2]\n",
    "\n",
    "\n",
    "print(pairs([1, 2, 3], [4, 5, 6]))"
   ],
   "metadata": {
    "collapsed": false
   }
  },
  {
   "cell_type": "markdown",
   "source": [
    "Write a list comprehension to find all the prime numbers between 1 and 100.\n"
   ],
   "metadata": {
    "collapsed": false
   }
  },
  {
   "cell_type": "code",
   "execution_count": 12,
   "outputs": [
    {
     "name": "stdout",
     "output_type": "stream",
     "text": [
      "[2, 3, 5, 7, 11, 13, 17, 19, 23, 29, 31, 37, 41, 43, 47, 53, 59, 61, 67, 71, 73, 79, 83, 89, 97]\n"
     ]
    }
   ],
   "source": [
    "prime = [x for x in range(2, 101) if sum([x % y == 0 for y in range(2, x)]) == 0]\n",
    "print(prime)"
   ],
   "metadata": {
    "collapsed": false
   }
  }
 ],
 "metadata": {
  "kernelspec": {
   "display_name": "Python 3",
   "language": "python",
   "name": "python3"
  },
  "language_info": {
   "codemirror_mode": {
    "name": "ipython",
    "version": 2
   },
   "file_extension": ".py",
   "mimetype": "text/x-python",
   "name": "python",
   "nbconvert_exporter": "python",
   "pygments_lexer": "ipython2",
   "version": "2.7.6"
  }
 },
 "nbformat": 4,
 "nbformat_minor": 0
}
