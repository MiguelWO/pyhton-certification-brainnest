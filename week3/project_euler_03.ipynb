{
 "cells": [
  {
   "attachments": {},
   "cell_type": "markdown",
   "metadata": {},
   "source": [
    "1. \n",
    "\n",
    "In the United Kingdom the currency is made up of pound (£) and pence (p). There are eight coins in general circulation:\n",
    "\n",
    "    1p, 2p, 5p, 10p, 20p, 50p, £1 (100p), and £2 (200p).\n",
    "\n",
    "It is possible to make £2 in the following way:\n",
    "\n",
    "    1×£1 + 1×50p + 2×20p + 1×5p + 1×2p + 3×1p\n",
    "\n",
    "How many different ways can £2 be made using any number of coins?\n"
   ]
  },
  {
   "cell_type": "code",
   "execution_count": 1,
   "metadata": {},
   "outputs": [
    {
     "name": "stdout",
     "output_type": "stream",
     "text": [
      "73682\n"
     ]
    }
   ],
   "source": [
    "coins = [1, 2, 5, 10, 20, 50, 100, 200]\n",
    "target = 200\n",
    "\n",
    "def count_combinations(coins, target):\n",
    "    combinations = [0] * (target + 1)\n",
    "    combinations[0] = 1\n",
    "    for coin in coins:\n",
    "        for i in range(coin, target + 1):\n",
    "            combinations[i] += combinations[i - coin]\n",
    "    return combinations[target]\n",
    "\n",
    "print(count_combinations(coins, target))\n"
   ]
  },
  {
   "attachments": {},
   "cell_type": "markdown",
   "metadata": {},
   "source": [
    "2. \n",
    "\n",
    "We shall say that an n-digit number is pandigital if it makes use of all the digits 1 to n exactly once; for example, the 5-digit number, 15234, is 1 through 5 pandigital.\n",
    "\n",
    "The product 7254 is unusual, as the identity, 39 × 186 = 7254, containing multiplicand, multiplier, and product is 1 through 9 pandigital.\n",
    "\n",
    "Find the sum of all products whose multiplicand/multiplier/product identity can be written as a 1 through 9 pandigital.\n",
    "HINT: Some products can be obtained in more than one way so be sure to only include it once in your sum.\n"
   ]
  },
  {
   "cell_type": "code",
   "execution_count": 2,
   "metadata": {},
   "outputs": [
    {
     "name": "stdout",
     "output_type": "stream",
     "text": [
      "45228\n"
     ]
    }
   ],
   "source": [
    "from itertools import permutations\n",
    "\n",
    "def is_pandigital(a, b, c):\n",
    "    string = str(a) + str(b) + str(c)\n",
    "    return ''.join(sorted(string)) == '123456789'\n",
    "\n",
    "def find_pandigital_products():\n",
    "    products = set()\n",
    "\n",
    "    digits = [str(i) for i in range(1, 10)]\n",
    "    perms = permutations(digits)\n",
    "\n",
    "    for perm in perms:\n",
    "        for i in range(1, 8):\n",
    "            for j in range(i + 1, 9):\n",
    "                a = int(''.join(perm[:i]))\n",
    "                b = int(''.join(perm[i:j]))\n",
    "                c = int(''.join(perm[j:]))\n",
    "                if a * b == c:\n",
    "                    products.add(c)\n",
    "\n",
    "    return sum(products)\n",
    "\n",
    "print(find_pandigital_products())\n",
    "\n"
   ]
  },
  {
   "attachments": {},
   "cell_type": "markdown",
   "metadata": {},
   "source": [
    "3. \n",
    "\n",
    "The fraction 49/98 is a curious fraction, as an inexperienced mathematician in attempting to simplify it may incorrectly believe that 49/98 = 4/8, which is correct, is obtained by cancelling the 9s.\n",
    "\n",
    "We shall consider fractions like, 30/50 = 3/5, to be trivial examples.\n",
    "\n",
    "There are exactly four non-trivial examples of this type of fraction, less than one in value, and containing two digits in the numerator and denominator.\n",
    "\n",
    "If the product of these four fractions is given in its lowest common terms, find the value of the denominator.\n"
   ]
  },
  {
   "cell_type": "code",
   "execution_count": 3,
   "metadata": {},
   "outputs": [
    {
     "name": "stdout",
     "output_type": "stream",
     "text": [
      "100\n"
     ]
    }
   ],
   "source": [
    "numerator = 1\n",
    "denominator = 1\n",
    "\n",
    "for a in range(1, 10):\n",
    "    for b in range(1, 10):\n",
    "        for c in range(1, 10):\n",
    "            if (10 * a + b) / (10 * b + c) == a / c and a != c:\n",
    "                numerator *= a\n",
    "                denominator *= c\n",
    "\n",
    "print(denominator // numerator)"
   ]
  },
  {
   "attachments": {},
   "cell_type": "markdown",
   "metadata": {},
   "source": [
    "4. \n",
    "\n",
    "145 is a curious number, as 1! + 4! + 5! = 1 + 24 + 120 = 145.\n",
    "\n",
    "Find the sum of all numbers which are equal to the sum of the factorial of their digits.\n",
    "\n",
    "Note: As 1! = 1 and 2! = 2 are not sums they are not included.\n"
   ]
  },
  {
   "cell_type": "code",
   "execution_count": 4,
   "metadata": {},
   "outputs": [
    {
     "name": "stdout",
     "output_type": "stream",
     "text": [
      "40730\n"
     ]
    }
   ],
   "source": [
    "def factorial(n):\n",
    "    if n == 0:\n",
    "        return 1\n",
    "    return n * factorial(n - 1)\n",
    "\n",
    "def find_curious_numbers():\n",
    "    curious_numbers = []\n",
    "    for i in range(3, 100000):\n",
    "        if i == sum([factorial(int(digit)) for digit in str(i)]):\n",
    "            curious_numbers.append(i)\n",
    "    return sum(curious_numbers)\n",
    "\n",
    "print(find_curious_numbers())"
   ]
  },
  {
   "attachments": {},
   "cell_type": "markdown",
   "metadata": {},
   "source": [
    "5. \n",
    "\n",
    "The number, 197, is called a circular prime because all rotations of the digits: 197, 971, and 719, are themselves prime.\n",
    "\n",
    "There are thirteen such primes below 100: 2, 3, 5, 7, 11, 13, 17, 31, 37, 71, 73, 79, and 97.\n",
    "\n",
    "How many circular primes are there below one million?\n"
   ]
  },
  {
   "cell_type": "code",
   "execution_count": 5,
   "metadata": {},
   "outputs": [
    {
     "name": "stdout",
     "output_type": "stream",
     "text": [
      "55\n"
     ]
    }
   ],
   "source": [
    "def is_prime(n):\n",
    "    if n == 1:\n",
    "        return False\n",
    "    if n == 2:\n",
    "        return True\n",
    "    if n % 2 == 0:\n",
    "        return False\n",
    "    for i in range(3, int(n ** 0.5) + 1, 2):\n",
    "        if n % i == 0:\n",
    "            return False\n",
    "    return True\n",
    "\n",
    "def is_circular_prime(n):\n",
    "    if not is_prime(n):\n",
    "        return False\n",
    "    string = str(n)\n",
    "    for i in range(len(string)):\n",
    "        if not is_prime(int(string[i:] + string[:i])):\n",
    "            return False\n",
    "    return True\n",
    "\n",
    "def find_circular_primes():\n",
    "    circular_primes = []\n",
    "    for i in range(1, 1000000):\n",
    "        if is_circular_prime(i):\n",
    "            circular_primes.append(i)\n",
    "    return len(circular_primes)\n",
    "\n",
    "print(find_circular_primes())\n"
   ]
  },
  {
   "cell_type": "code",
   "execution_count": null,
   "outputs": [],
   "source": [],
   "metadata": {
    "collapsed": false
   }
  }
 ],
 "metadata": {
  "language_info": {
   "name": "python"
  },
  "orig_nbformat": 4
 },
 "nbformat": 4,
 "nbformat_minor": 2
}
