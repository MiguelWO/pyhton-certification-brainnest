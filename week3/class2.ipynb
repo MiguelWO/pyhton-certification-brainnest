{
 "cells": [
  {
   "cell_type": "markdown",
   "source": [
    "1. Write a lambda function that takes two lists of integers and returns a new list with the maximum value for each index of the two lists. For example, given [1, 3, 5] and [2, 4, 6], the function should return [2, 4, 6]."
   ],
   "metadata": {
    "collapsed": false
   }
  },
  {
   "cell_type": "code",
   "execution_count": 1,
   "outputs": [
    {
     "name": "stdout",
     "output_type": "stream",
     "text": [
      "[2, 4, 6]\n"
     ]
    }
   ],
   "source": [
    "max_list = lambda list1, list2: [max(list1[i], list2[i]) for i in range(len(list1))]\n",
    "print(max_list([1, 3, 5], [2, 4, 6]))\n"
   ],
   "metadata": {
    "collapsed": false
   }
  },
  {
   "cell_type": "markdown",
   "source": [
    "2. Write a lambda function that takes a string of words separated by spaces, and returns a new string with the words in reverse order. For example, given the string \"the quick brown fox\", the function should return \"fox brown quick the\".\n"
   ],
   "metadata": {
    "collapsed": false
   }
  },
  {
   "cell_type": "code",
   "execution_count": 2,
   "outputs": [
    {
     "name": "stdout",
     "output_type": "stream",
     "text": [
      "fox brown quick the\n"
     ]
    }
   ],
   "source": [
    "reverse_string = lambda string: \" \".join(string.split()[::-1])\n",
    "print(reverse_string(\"the quick brown fox\"))"
   ],
   "metadata": {
    "collapsed": false
   }
  },
  {
   "cell_type": "markdown",
   "source": [
    "3. Write a lambda function that takes a string as input and returns True if the string is a palindrome (i.e., reads the same forward and backward), and False otherwise.\n"
   ],
   "metadata": {
    "collapsed": false
   }
  },
  {
   "cell_type": "code",
   "execution_count": 3,
   "outputs": [
    {
     "name": "stdout",
     "output_type": "stream",
     "text": [
      "True\n",
      "False\n"
     ]
    }
   ],
   "source": [
    "palindrome = lambda string: string == string[::-1]\n",
    "print(palindrome(\"racecar\"))\n",
    "print(palindrome(\"hello\"))\n"
   ],
   "metadata": {
    "collapsed": false
   }
  },
  {
   "cell_type": "markdown",
   "source": [
    "Write a generator function that takes a list of numbers as input and yields only the even numbers.\n"
   ],
   "metadata": {
    "collapsed": false
   }
  },
  {
   "cell_type": "code",
   "execution_count": 4,
   "outputs": [
    {
     "name": "stdout",
     "output_type": "stream",
     "text": [
      "[2, 4, 6, 8]\n"
     ]
    }
   ],
   "source": [
    "def even_numbers(numbers):\n",
    "    for number in numbers:\n",
    "        if number == 0:\n",
    "            continue\n",
    "        if number % 2 == 0:\n",
    "            yield number\n",
    "\n",
    "\n",
    "print(list(even_numbers(list(range(10)))))"
   ],
   "metadata": {
    "collapsed": false
   }
  },
  {
   "cell_type": "markdown",
   "source": [
    "Write a generator function that takes a string as input and yields all the words in the string that start with a vowel.\n"
   ],
   "metadata": {
    "collapsed": false
   }
  },
  {
   "cell_type": "code",
   "execution_count": 6,
   "outputs": [
    {
     "name": "stdout",
     "output_type": "stream",
     "text": [
      "[]\n",
      "[]\n",
      "['is', 'a']\n"
     ]
    }
   ],
   "source": [
    "def vowels(string):\n",
    "    for word in string.split():\n",
    "        if word[0] in \"aeiou\":\n",
    "            yield word\n",
    "\n",
    "\n",
    "print(list(vowels(\"the quick brown fox\")))\n",
    "print(list(vowels(\"hello world\")))\n",
    "print(list(vowels(\"this is a test\")))"
   ],
   "metadata": {
    "collapsed": false
   }
  },
  {
   "cell_type": "markdown",
   "source": [
    "Write a lambda function that takes a list of dictionaries representing people, each with keys name and age, and returns a new list with the names of all the people over the age of 18.\n"
   ],
   "metadata": {
    "collapsed": false
   }
  },
  {
   "cell_type": "code",
   "execution_count": 7,
   "outputs": [
    {
     "name": "stdout",
     "output_type": "stream",
     "text": [
      "['Alice', 'Charlie']\n"
     ]
    }
   ],
   "source": [
    "over_18 = lambda people: [person[\"name\"] for person in people if person[\"age\"] > 18]\n",
    "\n",
    "people = [\n",
    "    {\"name\": \"Alice\", \"age\": 20},\n",
    "    {\"name\": \"Bob\", \"age\": 15},\n",
    "    {\"name\": \"Charlie\", \"age\": 30},\n",
    "]\n",
    "\n",
    "print(over_18(people))"
   ],
   "metadata": {
    "collapsed": false
   }
  },
  {
   "cell_type": "code",
   "execution_count": null,
   "outputs": [],
   "source": [],
   "metadata": {
    "collapsed": false
   }
  }
 ],
 "metadata": {
  "kernelspec": {
   "display_name": "Python 3",
   "language": "python",
   "name": "python3"
  },
  "language_info": {
   "codemirror_mode": {
    "name": "ipython",
    "version": 2
   },
   "file_extension": ".py",
   "mimetype": "text/x-python",
   "name": "python",
   "nbconvert_exporter": "python",
   "pygments_lexer": "ipython2",
   "version": "2.7.6"
  }
 },
 "nbformat": 4,
 "nbformat_minor": 0
}
