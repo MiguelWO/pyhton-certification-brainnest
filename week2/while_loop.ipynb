{
 "cells": [
  {
   "attachments": {},
   "cell_type": "markdown",
   "metadata": {},
   "source": [
    "1. Create a while loop that repeatedly takes user input and adds the input to a list until the user enters \"done\"."
   ]
  },
  {
   "cell_type": "code",
   "execution_count": 2,
   "metadata": {
    "vscode": {
     "languageId": "plaintext"
    }
   },
   "outputs": [
    {
     "name": "stdout",
     "output_type": "stream",
     "text": [
      "[]\n"
     ]
    }
   ],
   "source": [
    "text = input(\"Enter a word: \").lower()\n",
    "list = []\n",
    "while text != \"done\":\n",
    "    list.append(text)\n",
    "    text = input(\"Enter a word: \").lower()\n",
    "print(list)"
   ]
  },
  {
   "attachments": {},
   "cell_type": "markdown",
   "metadata": {},
   "source": [
    "2. Create a while loop that generates random numbers and adds them to a list until the sum of all numbers in the list is greater than 100."
   ]
  },
  {
   "cell_type": "code",
   "execution_count": 6,
   "metadata": {
    "vscode": {
     "languageId": "plaintext"
    }
   },
   "outputs": [
    {
     "name": "stdout",
     "output_type": "stream",
     "text": [
      "[71, 99]\n"
     ]
    }
   ],
   "source": [
    "import random\n",
    "\n",
    "flag = True\n",
    "list = []\n",
    "while flag:\n",
    "    list.append(random.randint(1, 100))\n",
    "    if sum(list) > 100:\n",
    "        flag = False\n",
    "print(list)"
   ]
  },
  {
   "attachments": {},
   "cell_type": "markdown",
   "metadata": {},
   "source": [
    "3. Create a while loop that repeatedly takes user input and appends it to a list, but only if the input is a unique string."
   ]
  },
  {
   "cell_type": "code",
   "execution_count": 8,
   "metadata": {
    "vscode": {
     "languageId": "plaintext"
    }
   },
   "outputs": [
    {
     "name": "stdout",
     "output_type": "stream",
     "text": [
      "This word is already in the list: hola.\n",
      "['hola', 'como', 'vas', 'done']\n"
     ]
    }
   ],
   "source": [
    "flag = True\n",
    "list = []\n",
    "while flag:\n",
    "    text = input(\"Enter a word: \").lower()\n",
    "    if text not in list:\n",
    "        list.append(text)\n",
    "    else:\n",
    "        print(\"This word is already in the list: \"  + text + \".\")\n",
    "    if text == \"done\":\n",
    "        flag = False\n",
    "print(list)"
   ]
  },
  {
   "attachments": {},
   "cell_type": "markdown",
   "metadata": {},
   "source": [
    "4. Create a while loop that repeatedly takes user input and appends it to a list, but only if the input is a number greater than 10."
   ]
  },
  {
   "cell_type": "code",
   "execution_count": 9,
   "metadata": {
    "vscode": {
     "languageId": "plaintext"
    }
   },
   "outputs": [
    {
     "name": "stdout",
     "output_type": "stream",
     "text": [
      "This number is not greater than 10: 10.\n",
      "This number is not greater than 10: 2.\n",
      "This number is not greater than 10: 3.\n",
      "This number is not greater than 10: 4.\n",
      "This number is not greater than 10: 5.\n",
      "This number is not greater than 10: 6.\n",
      "This is not a number: casa.\n",
      "This is not a number: done.\n",
      "['11', '22']\n"
     ]
    }
   ],
   "source": [
    "flag = True\n",
    "list = []\n",
    "while flag:\n",
    "    text = input(\"Enter a number: \")\n",
    "    if text.isdigit():\n",
    "        if int(text) > 10:\n",
    "            list.append(text)\n",
    "        else:\n",
    "            print(\"This number is not greater than 10: \" + text + \".\")\n",
    "    else:\n",
    "        print(\"This is not a number: \" + text + \".\")\n",
    "    if text == \"done\":\n",
    "        flag = False\n",
    "print(list)\n"
   ]
  },
  {
   "attachments": {},
   "cell_type": "markdown",
   "metadata": {},
   "source": [
    "5. Create a while loop that repeatedly takes user input and keeps track of the highest number entered until the user enters \"done\"."
   ]
  },
  {
   "cell_type": "code",
   "execution_count": 10,
   "metadata": {
    "vscode": {
     "languageId": "plaintext"
    }
   },
   "outputs": [
    {
     "name": "stdout",
     "output_type": "stream",
     "text": [
      "This is not a number: casa.\n",
      "100\n"
     ]
    }
   ],
   "source": [
    "text = input(\"Enter a number: \").lower()\n",
    "max = 0\n",
    "while text != \"done\":\n",
    "    if text.isdigit():\n",
    "        if int(text) > int(max):\n",
    "            max = text\n",
    "    else:\n",
    "        print(\"This is not a number: \" + text + \".\")\n",
    "    text = input(\"Enter a number: \").lower()\n",
    "print(max)\n"
   ]
  }
 ],
 "metadata": {
  "language_info": {
   "name": "python"
  },
  "orig_nbformat": 4
 },
 "nbformat": 4,
 "nbformat_minor": 2
}
