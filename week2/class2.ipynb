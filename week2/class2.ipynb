{
 "cells": [
  {
   "cell_type": "markdown",
   "source": [
    "Read a file and search for a from and store the sender in a list, using error handling"
   ],
   "metadata": {
    "collapsed": false
   }
  },
  {
   "cell_type": "code",
   "execution_count": 5,
   "outputs": [
    {
     "name": "stdout",
     "output_type": "stream",
     "text": [
      "Sender: stephen.marquard@uct.ac.za\n",
      "Sender: louis@media.berkeley.edu\n",
      "Sender: zqian@umich.edu\n",
      "Sender: rjlowe@iupui.edu\n",
      "Sender: zqian@umich.edu\n",
      "Sender: rjlowe@iupui.edu\n",
      "Sender: cwen@iupui.edu\n",
      "Sender: cwen@iupui.edu\n",
      "Sender: gsilver@umich.edu\n",
      "Sender: gsilver@umich.edu\n",
      "Sender: zqian@umich.edu\n",
      "Sender: gsilver@umich.edu\n",
      "Sender: wagnermr@iupui.edu\n",
      "Sender: zqian@umich.edu\n",
      "Sender: antranig@caret.cam.ac.uk\n",
      "Sender: gopal.ramasammycook@gmail.com\n",
      "Sender: david.horwitz@uct.ac.za\n",
      "Sender: david.horwitz@uct.ac.za\n",
      "Sender: david.horwitz@uct.ac.za\n",
      "Sender: david.horwitz@uct.ac.za\n",
      "Sender: stephen.marquard@uct.ac.za\n",
      "Sender: louis@media.berkeley.edu\n",
      "Sender: louis@media.berkeley.edu\n",
      "Sender: ray@media.berkeley.edu\n",
      "Sender: cwen@iupui.edu\n",
      "Sender: cwen@iupui.edu\n",
      "Sender: cwen@iupui.edu\n",
      "Number of senders: 27\n"
     ]
    }
   ],
   "source": [
    "try:\n",
    "    f = open('mbox-short.txt')\n",
    "    senders = []\n",
    "    for line in f:\n",
    "        if line.startswith('From '):\n",
    "            words = line.split()\n",
    "            senders.append(words[1])\n",
    "    for sender in senders:\n",
    "        print(f'Sender: {sender}')\n",
    "    print(f'Number of senders: {len(senders)}')\n",
    "    f.close()\n",
    "except FileNotFoundError:\n",
    "    raise FileNotFoundError('File not found')"
   ],
   "metadata": {
    "collapsed": false
   }
  },
  {
   "cell_type": "markdown",
   "source": [
    "Read a file and search for a from and store the sender in a dictionary with their frequencies, using error handling. And return the most frequent sender"
   ],
   "metadata": {
    "collapsed": false
   }
  },
  {
   "cell_type": "code",
   "execution_count": 9,
   "outputs": [
    {
     "name": "stdout",
     "output_type": "stream",
     "text": [
      "{'stephen.marquard@uct.ac.za': 2, 'louis@media.berkeley.edu': 3, 'zqian@umich.edu': 4, 'rjlowe@iupui.edu': 2, 'cwen@iupui.edu': 5, 'gsilver@umich.edu': 3, 'wagnermr@iupui.edu': 1, 'antranig@caret.cam.ac.uk': 1, 'gopal.ramasammycook@gmail.com': 1, 'david.horwitz@uct.ac.za': 4, 'ray@media.berkeley.edu': 1}\n",
      "Max sender: cwen@iupui.edu\n",
      "Number of senders: 11\n"
     ]
    }
   ],
   "source": [
    "try:\n",
    "    f = open('mbox-short.txt')\n",
    "    senders = {}\n",
    "    for line in f:\n",
    "        if line.startswith('From '):\n",
    "            words = line.split()\n",
    "            if words[1] not in senders:\n",
    "                senders[words[1]] = 1\n",
    "            else:\n",
    "                senders[words[1]] += 1\n",
    "    print(senders)\n",
    "    max_sender = None\n",
    "    for sender in senders:\n",
    "        if max_sender is None or senders[sender] > senders[max_sender]:\n",
    "            max_sender = sender\n",
    "    print(f'Max sender: {max_sender}')\n",
    "    # print(f'Number of senders: {len(senders)}')\n",
    "    f.close()\n",
    "except FileNotFoundError\n",
    "    raise FileNotFoundError('File not found')"
   ],
   "metadata": {
    "collapsed": false
   }
  }
 ],
 "metadata": {
  "kernelspec": {
   "display_name": "Python 3",
   "language": "python",
   "name": "python3"
  },
  "language_info": {
   "codemirror_mode": {
    "name": "ipython",
    "version": 2
   },
   "file_extension": ".py",
   "mimetype": "text/x-python",
   "name": "python",
   "nbconvert_exporter": "python",
   "pygments_lexer": "ipython2",
   "version": "2.7.6"
  }
 },
 "nbformat": 4,
 "nbformat_minor": 0
}
