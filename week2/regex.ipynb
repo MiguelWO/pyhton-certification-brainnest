{
 "cells": [
  {
   "attachments": {},
   "cell_type": "markdown",
   "metadata": {},
   "source": [
    "1.  Write a regular expression that matches a date in the format dd/mm/yyyy. For example, the string \"01/01/2021\" should match."
   ]
  },
  {
   "cell_type": "code",
   "execution_count": 2,
   "metadata": {},
   "outputs": [
    {
     "name": "stdout",
     "output_type": "stream",
     "text": [
      "Match found!\n"
     ]
    }
   ],
   "source": [
    "import re\n",
    "\n",
    "date_regex = re.compile(r\"\\d{2}/\\d{2}/\\d{4}\")\n",
    "date_string = \"01/01/2021\"\n",
    "\n",
    "if re.match(date_regex, date_string):\n",
    "    print('Match found!')\n",
    "else:\n",
    "    print('No match found.')\n"
   ]
  },
  {
   "attachments": {},
   "cell_type": "markdown",
   "metadata": {},
   "source": [
    "2. Write a regular expression that matches a phone number in the format xxx-xxx-xxxx, where x is a digit. For example, the string \"123-456-7890\" should match."
   ]
  },
  {
   "cell_type": "code",
   "execution_count": 3,
   "metadata": {},
   "outputs": [
    {
     "name": "stdout",
     "output_type": "stream",
     "text": [
      "Match found!\n"
     ]
    }
   ],
   "source": [
    "phone_regex = re.compile(r\"\\d{3}-\\d{3}-\\d{4}\")\n",
    "phone_string = \"123-456-7890\"\n",
    "\n",
    "if re.match(phone_regex, phone_string):\n",
    "    print('Match found!')\n",
    "else:\n",
    "    print('No match found.')"
   ]
  },
  {
   "attachments": {},
   "cell_type": "markdown",
   "metadata": {},
   "source": [
    "3. Write a regular expression that matches a valid email address. For example, the string \"example@example.com\" should match."
   ]
  },
  {
   "cell_type": "code",
   "execution_count": 4,
   "metadata": {},
   "outputs": [
    {
     "name": "stdout",
     "output_type": "stream",
     "text": [
      "Match found!\n"
     ]
    }
   ],
   "source": [
    "email_regex = re.compile(r\"([a-zA-Z0-9_.+-]+[._])*[A-Za-z0-9]+@[a-zA-Z0-9-]+\\.[a-zA-Z0-9-.]+\")\n",
    "email_string = \"example@example.com\"\n",
    "\n",
    "if re.match(email_regex, email_string):\n",
    "    print('Match found!')\n",
    "else:\n",
    "    print('No match found.')"
   ]
  },
  {
   "attachments": {},
   "cell_type": "markdown",
   "metadata": {},
   "source": [
    "4. Write a regular expression that matches a string that starts with a word, followed by one or more whitespace characters, followed by another word. For example, the string \"hello world\" should match."
   ]
  },
  {
   "cell_type": "code",
   "execution_count": 5,
   "metadata": {},
   "outputs": [
    {
     "name": "stdout",
     "output_type": "stream",
     "text": [
      "Match found!\n"
     ]
    }
   ],
   "source": [
    "string_pattern = re.compile(r\"\\w+\\s+\\w+\")\n",
    "string = \"hello world\"\n",
    "\n",
    "if re.match(string_pattern, string):\n",
    "    print('Match found!')\n",
    "else:\n",
    "    print('No match found.')"
   ]
  },
  {
   "attachments": {},
   "cell_type": "markdown",
   "metadata": {},
   "source": [
    "5. Write a regular expression that matches a string that contains a number with exactly two decimal places. For example, the string \"1.23\" should match, but the string \"1.234\" should not match."
   ]
  },
  {
   "cell_type": "code",
   "execution_count": 6,
   "metadata": {},
   "outputs": [
    {
     "name": "stdout",
     "output_type": "stream",
     "text": [
      "Match found!\n"
     ]
    }
   ],
   "source": [
    "string_pattern = re.compile(r\"\\d+\\.\\d{2}\")\n",
    "string = \"1.23\"\n",
    "\n",
    "if re.match(string_pattern, string):\n",
    "    print('Match found!')\n",
    "else:\n",
    "    print('No match found.')"
   ]
  }
 ],
 "metadata": {
  "kernelspec": {
   "display_name": "Python 3",
   "language": "python",
   "name": "python3"
  },
  "language_info": {
   "name": "python",
   "version": "3.10.9 (tags/v3.10.9:1dd9be6, Dec  6 2022, 20:01:21) [MSC v.1934 64 bit (AMD64)]"
  },
  "orig_nbformat": 4,
  "vscode": {
   "interpreter": {
    "hash": "f7a5be651532581cb44625d52e18aa1d390cab54bc6b51099d8c30bea9b68219"
   }
  }
 },
 "nbformat": 4,
 "nbformat_minor": 2
}
