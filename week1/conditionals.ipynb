{
 "cells": [
  {
   "cell_type": "markdown",
   "source": [
    "1. Write a program that prompts the user for a string and checks whether the string is a palindrome (i.e., the string reads the same forward and backward)."
   ],
   "metadata": {
    "collapsed": false
   }
  },
  {
   "cell_type": "code",
   "execution_count": 36,
   "outputs": [
    {
     "name": "stdout",
     "output_type": "stream",
     "text": [
      "The word kayak is  Palindrome\n"
     ]
    }
   ],
   "source": [
    "def palindrome():\n",
    "    prompt = input(\"Enter de word\").lower().strip()\n",
    "    # arr = prompt.split(sep = \"\")\n",
    "    arr = [char for char in prompt]\n",
    "    reverse = arr[::-1]\n",
    "    ans = arr == reverse\n",
    "    str = f'The word {prompt} is '\n",
    "    if ans == 1:\n",
    "        str += f' Palindrome'\n",
    "    else:\n",
    "        str += f' is not Palindrome'\n",
    "    return str\n",
    "\n",
    "print(palindrome())\n"
   ],
   "metadata": {
    "collapsed": false
   }
  },
  {
   "attachments": {},
   "cell_type": "markdown",
   "metadata": {},
   "source": [
    "2. Write a program that takes in a list of integers and returns the sum of all even numbers in the list."
   ]
  },
  {
   "cell_type": "code",
   "execution_count": 43,
   "metadata": {},
   "outputs": [
    {
     "name": "stdout",
     "output_type": "stream",
     "text": [
      "[0, 0, 2, 0, 4, 0, 6, 0, 8, 0, 10, 0, 12, 0, 14, 0, 16, 0, 18, 0]\n",
      "90\n"
     ]
    }
   ],
   "source": [
    "def even_numbers(numbers):\n",
    "    ans = [num if num %2 == 0 else 0 for num in numbers]\n",
    "    # print(ans)\n",
    "    return sum(ans)\n",
    "\n",
    "print(even_numbers(range(20)))\n"
   ]
  },
  {
   "attachments": {},
   "cell_type": "markdown",
   "metadata": {},
   "source": [
    "3. Write a program that prompts the user for their age and checks whether they are old enough to vote (i.e., 18 years old or older)."
   ]
  },
  {
   "cell_type": "code",
   "execution_count": 45,
   "metadata": {},
   "outputs": [
    {
     "name": "stdout",
     "output_type": "stream",
     "text": [
      "You have 21, you can vote\n"
     ]
    }
   ],
   "source": [
    "def vote():\n",
    "    age = int(input(\"Enter your age\"))\n",
    "    if age >= 18:\n",
    "        return f'You have {age}, you can vote'\n",
    "    else:\n",
    "        return f'You have {age}, you can not vote'\n",
    "print(vote())"
   ]
  },
  {
   "attachments": {},
   "cell_type": "markdown",
   "metadata": {},
   "source": [
    "4. Write a program that takes in a list of integers and returns the largest number in the list that is also divisible by 3."
   ]
  },
  {
   "cell_type": "code",
   "execution_count": 47,
   "metadata": {},
   "outputs": [
    {
     "name": "stdout",
     "output_type": "stream",
     "text": [
      "27\n"
     ]
    }
   ],
   "source": [
    "def max_and_divisible(lst):\n",
    "    div = [num if num%3 == 0 else 0 for num in lst]\n",
    "    return max(div)\n",
    "\n",
    "print(max_and_divisible(range(30)))"
   ]
  },
  {
   "attachments": {},
   "cell_type": "markdown",
   "metadata": {},
   "source": [
    "5. Write a program that prompts the user for a number and checks whether the number is a prime number (i.e., only divisible by 1 and itself)."
   ]
  },
  {
   "cell_type": "code",
   "execution_count": 62,
   "metadata": {},
   "outputs": [
    {
     "name": "stdout",
     "output_type": "stream",
     "text": [
      "The number: 7 is prime\n"
     ]
    }
   ],
   "source": [
    "def prime(number):\n",
    "    aux = 0\n",
    "    for i in range(2,number):\n",
    "        if number%i == 0:\n",
    "            aux += 1\n",
    "    if aux == 0 :\n",
    "        return f'The number: {number} is prime'\n",
    "    return f'The number: {number} is not prime'\n",
    "\n",
    "print(prime(7))\n",
    "\n",
    "\n"
   ]
  }
 ],
 "metadata": {
  "kernelspec": {
   "display_name": "Python 3",
   "language": "python",
   "name": "python3"
  },
  "language_info": {
   "name": "python",
   "version": "3.10.10"
  },
  "orig_nbformat": 4,
  "vscode": {
   "interpreter": {
    "hash": "f7a5be651532581cb44625d52e18aa1d390cab54bc6b51099d8c30bea9b68219"
   }
  }
 },
 "nbformat": 4,
 "nbformat_minor": 2
}
